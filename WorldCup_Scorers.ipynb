{
 "cells": [
  {
   "cell_type": "markdown",
   "id": "f2c42bc2",
   "metadata": {},
   "source": [
    "# Data Analysis - World Cup Scorers\n",
    "\n",
    "## L'objectif de cette analyse est de savoir quel footballeur aura le record de buts inscrits en Coupe du Monde\n",
    "\n",
    "#### Source : https://github.com/jfjelstul/worldcup/blob/master/data-csv/goals.csv\n",
    "\n",
    "### - Pour commencer, j'importe les librairies nécessaires à l'analyse de données ainsi que ma dataset"
   ]
  },
  {
   "cell_type": "code",
   "execution_count": 59,
   "id": "a4e94380",
   "metadata": {},
   "outputs": [],
   "source": [
    "import pandas as pd \n",
    "import numpy as np \n",
    "import seaborn as sns\n",
    "import matplotlib.pyplot as plt\n",
    "\n",
    "df = pd.read_csv('goals.csv')"
   ]
  },
  {
   "cell_type": "markdown",
   "id": "ba5ebba1",
   "metadata": {},
   "source": [
    "### - Elle contient l'intégralité des matchs de Coupe du Monde depuis sa première édition en 1930"
   ]
  },
  {
   "cell_type": "code",
   "execution_count": 3,
   "id": "505280dc",
   "metadata": {},
   "outputs": [
    {
     "data": {
      "text/html": [
       "<div>\n",
       "<style scoped>\n",
       "    .dataframe tbody tr th:only-of-type {\n",
       "        vertical-align: middle;\n",
       "    }\n",
       "\n",
       "    .dataframe tbody tr th {\n",
       "        vertical-align: top;\n",
       "    }\n",
       "\n",
       "    .dataframe thead th {\n",
       "        text-align: right;\n",
       "    }\n",
       "</style>\n",
       "<table border=\"1\" class=\"dataframe\">\n",
       "  <thead>\n",
       "    <tr style=\"text-align: right;\">\n",
       "      <th></th>\n",
       "      <th>key_id</th>\n",
       "      <th>goal_id</th>\n",
       "      <th>tournament_id</th>\n",
       "      <th>tournament_name</th>\n",
       "      <th>match_id</th>\n",
       "      <th>match_name</th>\n",
       "      <th>match_date</th>\n",
       "      <th>stage_name</th>\n",
       "      <th>group_name</th>\n",
       "      <th>team_id</th>\n",
       "      <th>...</th>\n",
       "      <th>shirt_number</th>\n",
       "      <th>player_team_id</th>\n",
       "      <th>player_team_name</th>\n",
       "      <th>player_team_code</th>\n",
       "      <th>minute_label</th>\n",
       "      <th>minute_regulation</th>\n",
       "      <th>minute_stoppage</th>\n",
       "      <th>match_period</th>\n",
       "      <th>own_goal</th>\n",
       "      <th>penalty</th>\n",
       "    </tr>\n",
       "  </thead>\n",
       "  <tbody>\n",
       "    <tr>\n",
       "      <th>0</th>\n",
       "      <td>1</td>\n",
       "      <td>G-0001</td>\n",
       "      <td>WC-1930</td>\n",
       "      <td>1930 FIFA World Cup</td>\n",
       "      <td>M-1930-01</td>\n",
       "      <td>France v Mexico</td>\n",
       "      <td>1930-07-13</td>\n",
       "      <td>group stage</td>\n",
       "      <td>Group 1</td>\n",
       "      <td>T-28</td>\n",
       "      <td>...</td>\n",
       "      <td>0</td>\n",
       "      <td>T-28</td>\n",
       "      <td>France</td>\n",
       "      <td>FRA</td>\n",
       "      <td>19'</td>\n",
       "      <td>19</td>\n",
       "      <td>0</td>\n",
       "      <td>first half</td>\n",
       "      <td>0</td>\n",
       "      <td>0</td>\n",
       "    </tr>\n",
       "    <tr>\n",
       "      <th>1</th>\n",
       "      <td>2</td>\n",
       "      <td>G-0002</td>\n",
       "      <td>WC-1930</td>\n",
       "      <td>1930 FIFA World Cup</td>\n",
       "      <td>M-1930-01</td>\n",
       "      <td>France v Mexico</td>\n",
       "      <td>1930-07-13</td>\n",
       "      <td>group stage</td>\n",
       "      <td>Group 1</td>\n",
       "      <td>T-28</td>\n",
       "      <td>...</td>\n",
       "      <td>0</td>\n",
       "      <td>T-28</td>\n",
       "      <td>France</td>\n",
       "      <td>FRA</td>\n",
       "      <td>40'</td>\n",
       "      <td>40</td>\n",
       "      <td>0</td>\n",
       "      <td>first half</td>\n",
       "      <td>0</td>\n",
       "      <td>0</td>\n",
       "    </tr>\n",
       "    <tr>\n",
       "      <th>2</th>\n",
       "      <td>3</td>\n",
       "      <td>G-0003</td>\n",
       "      <td>WC-1930</td>\n",
       "      <td>1930 FIFA World Cup</td>\n",
       "      <td>M-1930-01</td>\n",
       "      <td>France v Mexico</td>\n",
       "      <td>1930-07-13</td>\n",
       "      <td>group stage</td>\n",
       "      <td>Group 1</td>\n",
       "      <td>T-28</td>\n",
       "      <td>...</td>\n",
       "      <td>0</td>\n",
       "      <td>T-28</td>\n",
       "      <td>France</td>\n",
       "      <td>FRA</td>\n",
       "      <td>43'</td>\n",
       "      <td>43</td>\n",
       "      <td>0</td>\n",
       "      <td>first half</td>\n",
       "      <td>0</td>\n",
       "      <td>0</td>\n",
       "    </tr>\n",
       "    <tr>\n",
       "      <th>3</th>\n",
       "      <td>4</td>\n",
       "      <td>G-0004</td>\n",
       "      <td>WC-1930</td>\n",
       "      <td>1930 FIFA World Cup</td>\n",
       "      <td>M-1930-01</td>\n",
       "      <td>France v Mexico</td>\n",
       "      <td>1930-07-13</td>\n",
       "      <td>group stage</td>\n",
       "      <td>Group 1</td>\n",
       "      <td>T-44</td>\n",
       "      <td>...</td>\n",
       "      <td>0</td>\n",
       "      <td>T-44</td>\n",
       "      <td>Mexico</td>\n",
       "      <td>MEX</td>\n",
       "      <td>70'</td>\n",
       "      <td>70</td>\n",
       "      <td>0</td>\n",
       "      <td>second half</td>\n",
       "      <td>0</td>\n",
       "      <td>0</td>\n",
       "    </tr>\n",
       "    <tr>\n",
       "      <th>4</th>\n",
       "      <td>5</td>\n",
       "      <td>G-0005</td>\n",
       "      <td>WC-1930</td>\n",
       "      <td>1930 FIFA World Cup</td>\n",
       "      <td>M-1930-01</td>\n",
       "      <td>France v Mexico</td>\n",
       "      <td>1930-07-13</td>\n",
       "      <td>group stage</td>\n",
       "      <td>Group 1</td>\n",
       "      <td>T-28</td>\n",
       "      <td>...</td>\n",
       "      <td>0</td>\n",
       "      <td>T-28</td>\n",
       "      <td>France</td>\n",
       "      <td>FRA</td>\n",
       "      <td>87'</td>\n",
       "      <td>87</td>\n",
       "      <td>0</td>\n",
       "      <td>second half</td>\n",
       "      <td>0</td>\n",
       "      <td>0</td>\n",
       "    </tr>\n",
       "  </tbody>\n",
       "</table>\n",
       "<p>5 rows × 27 columns</p>\n",
       "</div>"
      ],
      "text/plain": [
       "   key_id goal_id tournament_id      tournament_name   match_id  \\\n",
       "0       1  G-0001       WC-1930  1930 FIFA World Cup  M-1930-01   \n",
       "1       2  G-0002       WC-1930  1930 FIFA World Cup  M-1930-01   \n",
       "2       3  G-0003       WC-1930  1930 FIFA World Cup  M-1930-01   \n",
       "3       4  G-0004       WC-1930  1930 FIFA World Cup  M-1930-01   \n",
       "4       5  G-0005       WC-1930  1930 FIFA World Cup  M-1930-01   \n",
       "\n",
       "        match_name  match_date   stage_name group_name team_id  ...  \\\n",
       "0  France v Mexico  1930-07-13  group stage    Group 1    T-28  ...   \n",
       "1  France v Mexico  1930-07-13  group stage    Group 1    T-28  ...   \n",
       "2  France v Mexico  1930-07-13  group stage    Group 1    T-28  ...   \n",
       "3  France v Mexico  1930-07-13  group stage    Group 1    T-44  ...   \n",
       "4  France v Mexico  1930-07-13  group stage    Group 1    T-28  ...   \n",
       "\n",
       "  shirt_number player_team_id  player_team_name  player_team_code  \\\n",
       "0            0           T-28            France               FRA   \n",
       "1            0           T-28            France               FRA   \n",
       "2            0           T-28            France               FRA   \n",
       "3            0           T-44            Mexico               MEX   \n",
       "4            0           T-28            France               FRA   \n",
       "\n",
       "  minute_label minute_regulation minute_stoppage  match_period own_goal  \\\n",
       "0          19'                19               0    first half        0   \n",
       "1          40'                40               0    first half        0   \n",
       "2          43'                43               0    first half        0   \n",
       "3          70'                70               0   second half        0   \n",
       "4          87'                87               0   second half        0   \n",
       "\n",
       "  penalty  \n",
       "0       0  \n",
       "1       0  \n",
       "2       0  \n",
       "3       0  \n",
       "4       0  \n",
       "\n",
       "[5 rows x 27 columns]"
      ]
     },
     "execution_count": 3,
     "metadata": {},
     "output_type": "execute_result"
    }
   ],
   "source": [
    "df.head()"
   ]
  },
  {
   "cell_type": "code",
   "execution_count": 33,
   "id": "d1424b02",
   "metadata": {},
   "outputs": [
    {
     "data": {
      "text/plain": [
       "(2720, 27)"
      ]
     },
     "execution_count": 33,
     "metadata": {},
     "output_type": "execute_result"
    }
   ],
   "source": [
    "df.shape"
   ]
  },
  {
   "cell_type": "markdown",
   "id": "3f111447",
   "metadata": {},
   "source": [
    "### - J'effectue une commande qui va me retourner le nom de chaque colonnes"
   ]
  },
  {
   "cell_type": "code",
   "execution_count": 3,
   "id": "c9738e08",
   "metadata": {},
   "outputs": [
    {
     "data": {
      "text/plain": [
       "Index(['key_id', 'goal_id', 'tournament_id', 'tournament_name', 'match_id',\n",
       "       'match_name', 'match_date', 'stage_name', 'group_name', 'team_id',\n",
       "       'team_name', 'team_code', 'home_team', 'away_team', 'player_id',\n",
       "       'family_name', 'given_name', 'shirt_number', 'player_team_id',\n",
       "       'player_team_name', 'player_team_code', 'minute_label',\n",
       "       'minute_regulation', 'minute_stoppage', 'match_period', 'own_goal',\n",
       "       'penalty'],\n",
       "      dtype='object')"
      ]
     },
     "execution_count": 3,
     "metadata": {},
     "output_type": "execute_result"
    }
   ],
   "source": [
    "df.columns"
   ]
  },
  {
   "cell_type": "markdown",
   "id": "4900453b",
   "metadata": {},
   "source": [
    "### - Je fais un tri dans mes colonnes en me séparant de celles dont je n'aurais pas besoin"
   ]
  },
  {
   "cell_type": "code",
   "execution_count": 4,
   "id": "661537f9",
   "metadata": {},
   "outputs": [],
   "source": [
    "df = df.drop(columns =['group_name', 'shirt_number','team_id','player_team_id','goal_id','player_team_code',\n",
    "                       'minute_label','minute_stoppage','own_goal'])"
   ]
  },
  {
   "cell_type": "markdown",
   "id": "3015b629",
   "metadata": {},
   "source": [
    "### - J'effectue une commande qui va mepermettre afin de connaître le type de chaque colonne"
   ]
  },
  {
   "cell_type": "code",
   "execution_count": 5,
   "id": "c27e40b2",
   "metadata": {},
   "outputs": [
    {
     "data": {
      "text/plain": [
       "key_id                int64\n",
       "tournament_id        object\n",
       "tournament_name      object\n",
       "match_id             object\n",
       "match_name           object\n",
       "match_date           object\n",
       "stage_name           object\n",
       "team_name            object\n",
       "team_code            object\n",
       "home_team             int64\n",
       "away_team             int64\n",
       "player_id            object\n",
       "family_name          object\n",
       "given_name           object\n",
       "player_team_name     object\n",
       "minute_regulation     int64\n",
       "match_period         object\n",
       "penalty               int64\n",
       "dtype: object"
      ]
     },
     "execution_count": 5,
     "metadata": {},
     "output_type": "execute_result"
    }
   ],
   "source": [
    "df.dtypes"
   ]
  },
  {
   "cell_type": "code",
   "execution_count": 6,
   "id": "7151ac25",
   "metadata": {},
   "outputs": [
    {
     "data": {
      "text/html": [
       "<div>\n",
       "<style scoped>\n",
       "    .dataframe tbody tr th:only-of-type {\n",
       "        vertical-align: middle;\n",
       "    }\n",
       "\n",
       "    .dataframe tbody tr th {\n",
       "        vertical-align: top;\n",
       "    }\n",
       "\n",
       "    .dataframe thead th {\n",
       "        text-align: right;\n",
       "    }\n",
       "</style>\n",
       "<table border=\"1\" class=\"dataframe\">\n",
       "  <thead>\n",
       "    <tr style=\"text-align: right;\">\n",
       "      <th></th>\n",
       "      <th>key_id</th>\n",
       "      <th>tournament_id</th>\n",
       "      <th>tournament_name</th>\n",
       "      <th>match_id</th>\n",
       "      <th>match_name</th>\n",
       "      <th>match_date</th>\n",
       "      <th>stage_name</th>\n",
       "      <th>team_name</th>\n",
       "      <th>team_code</th>\n",
       "      <th>home_team</th>\n",
       "      <th>away_team</th>\n",
       "      <th>player_id</th>\n",
       "      <th>family_name</th>\n",
       "      <th>given_name</th>\n",
       "      <th>player_team_name</th>\n",
       "      <th>minute_regulation</th>\n",
       "      <th>match_period</th>\n",
       "      <th>penalty</th>\n",
       "    </tr>\n",
       "  </thead>\n",
       "  <tbody>\n",
       "    <tr>\n",
       "      <th>count</th>\n",
       "      <td>2720.00000</td>\n",
       "      <td>2720</td>\n",
       "      <td>2720</td>\n",
       "      <td>2720</td>\n",
       "      <td>2720</td>\n",
       "      <td>2720</td>\n",
       "      <td>2720</td>\n",
       "      <td>2720</td>\n",
       "      <td>2720</td>\n",
       "      <td>2720.000000</td>\n",
       "      <td>2720.000000</td>\n",
       "      <td>2720</td>\n",
       "      <td>2720</td>\n",
       "      <td>2720</td>\n",
       "      <td>2720</td>\n",
       "      <td>2720.000000</td>\n",
       "      <td>2720</td>\n",
       "      <td>2720.000000</td>\n",
       "    </tr>\n",
       "    <tr>\n",
       "      <th>unique</th>\n",
       "      <td>NaN</td>\n",
       "      <td>22</td>\n",
       "      <td>22</td>\n",
       "      <td>886</td>\n",
       "      <td>708</td>\n",
       "      <td>372</td>\n",
       "      <td>8</td>\n",
       "      <td>81</td>\n",
       "      <td>80</td>\n",
       "      <td>NaN</td>\n",
       "      <td>NaN</td>\n",
       "      <td>1437</td>\n",
       "      <td>1353</td>\n",
       "      <td>879</td>\n",
       "      <td>82</td>\n",
       "      <td>NaN</td>\n",
       "      <td>8</td>\n",
       "      <td>NaN</td>\n",
       "    </tr>\n",
       "    <tr>\n",
       "      <th>top</th>\n",
       "      <td>NaN</td>\n",
       "      <td>WC-2022</td>\n",
       "      <td>2022 FIFA World Cup</td>\n",
       "      <td>M-1954-19</td>\n",
       "      <td>Brazil v Sweden</td>\n",
       "      <td>1934-05-27</td>\n",
       "      <td>group stage</td>\n",
       "      <td>Brazil</td>\n",
       "      <td>BRA</td>\n",
       "      <td>NaN</td>\n",
       "      <td>NaN</td>\n",
       "      <td>P-05224</td>\n",
       "      <td>Müller</td>\n",
       "      <td>not applicable</td>\n",
       "      <td>Brazil</td>\n",
       "      <td>NaN</td>\n",
       "      <td>second half</td>\n",
       "      <td>NaN</td>\n",
       "    </tr>\n",
       "    <tr>\n",
       "      <th>freq</th>\n",
       "      <td>NaN</td>\n",
       "      <td>172</td>\n",
       "      <td>172</td>\n",
       "      <td>12</td>\n",
       "      <td>28</td>\n",
       "      <td>43</td>\n",
       "      <td>1808</td>\n",
       "      <td>237</td>\n",
       "      <td>237</td>\n",
       "      <td>NaN</td>\n",
       "      <td>NaN</td>\n",
       "      <td>16</td>\n",
       "      <td>29</td>\n",
       "      <td>263</td>\n",
       "      <td>238</td>\n",
       "      <td>NaN</td>\n",
       "      <td>1425</td>\n",
       "      <td>NaN</td>\n",
       "    </tr>\n",
       "    <tr>\n",
       "      <th>mean</th>\n",
       "      <td>1360.50000</td>\n",
       "      <td>NaN</td>\n",
       "      <td>NaN</td>\n",
       "      <td>NaN</td>\n",
       "      <td>NaN</td>\n",
       "      <td>NaN</td>\n",
       "      <td>NaN</td>\n",
       "      <td>NaN</td>\n",
       "      <td>NaN</td>\n",
       "      <td>0.626103</td>\n",
       "      <td>0.373897</td>\n",
       "      <td>NaN</td>\n",
       "      <td>NaN</td>\n",
       "      <td>NaN</td>\n",
       "      <td>NaN</td>\n",
       "      <td>51.580882</td>\n",
       "      <td>NaN</td>\n",
       "      <td>0.078676</td>\n",
       "    </tr>\n",
       "    <tr>\n",
       "      <th>std</th>\n",
       "      <td>785.34069</td>\n",
       "      <td>NaN</td>\n",
       "      <td>NaN</td>\n",
       "      <td>NaN</td>\n",
       "      <td>NaN</td>\n",
       "      <td>NaN</td>\n",
       "      <td>NaN</td>\n",
       "      <td>NaN</td>\n",
       "      <td>NaN</td>\n",
       "      <td>0.483926</td>\n",
       "      <td>0.483926</td>\n",
       "      <td>NaN</td>\n",
       "      <td>NaN</td>\n",
       "      <td>NaN</td>\n",
       "      <td>NaN</td>\n",
       "      <td>27.534339</td>\n",
       "      <td>NaN</td>\n",
       "      <td>0.269283</td>\n",
       "    </tr>\n",
       "    <tr>\n",
       "      <th>min</th>\n",
       "      <td>1.00000</td>\n",
       "      <td>NaN</td>\n",
       "      <td>NaN</td>\n",
       "      <td>NaN</td>\n",
       "      <td>NaN</td>\n",
       "      <td>NaN</td>\n",
       "      <td>NaN</td>\n",
       "      <td>NaN</td>\n",
       "      <td>NaN</td>\n",
       "      <td>0.000000</td>\n",
       "      <td>0.000000</td>\n",
       "      <td>NaN</td>\n",
       "      <td>NaN</td>\n",
       "      <td>NaN</td>\n",
       "      <td>NaN</td>\n",
       "      <td>1.000000</td>\n",
       "      <td>NaN</td>\n",
       "      <td>0.000000</td>\n",
       "    </tr>\n",
       "    <tr>\n",
       "      <th>25%</th>\n",
       "      <td>680.75000</td>\n",
       "      <td>NaN</td>\n",
       "      <td>NaN</td>\n",
       "      <td>NaN</td>\n",
       "      <td>NaN</td>\n",
       "      <td>NaN</td>\n",
       "      <td>NaN</td>\n",
       "      <td>NaN</td>\n",
       "      <td>NaN</td>\n",
       "      <td>0.000000</td>\n",
       "      <td>0.000000</td>\n",
       "      <td>NaN</td>\n",
       "      <td>NaN</td>\n",
       "      <td>NaN</td>\n",
       "      <td>NaN</td>\n",
       "      <td>28.000000</td>\n",
       "      <td>NaN</td>\n",
       "      <td>0.000000</td>\n",
       "    </tr>\n",
       "    <tr>\n",
       "      <th>50%</th>\n",
       "      <td>1360.50000</td>\n",
       "      <td>NaN</td>\n",
       "      <td>NaN</td>\n",
       "      <td>NaN</td>\n",
       "      <td>NaN</td>\n",
       "      <td>NaN</td>\n",
       "      <td>NaN</td>\n",
       "      <td>NaN</td>\n",
       "      <td>NaN</td>\n",
       "      <td>1.000000</td>\n",
       "      <td>0.000000</td>\n",
       "      <td>NaN</td>\n",
       "      <td>NaN</td>\n",
       "      <td>NaN</td>\n",
       "      <td>NaN</td>\n",
       "      <td>53.000000</td>\n",
       "      <td>NaN</td>\n",
       "      <td>0.000000</td>\n",
       "    </tr>\n",
       "    <tr>\n",
       "      <th>75%</th>\n",
       "      <td>2040.25000</td>\n",
       "      <td>NaN</td>\n",
       "      <td>NaN</td>\n",
       "      <td>NaN</td>\n",
       "      <td>NaN</td>\n",
       "      <td>NaN</td>\n",
       "      <td>NaN</td>\n",
       "      <td>NaN</td>\n",
       "      <td>NaN</td>\n",
       "      <td>1.000000</td>\n",
       "      <td>1.000000</td>\n",
       "      <td>NaN</td>\n",
       "      <td>NaN</td>\n",
       "      <td>NaN</td>\n",
       "      <td>NaN</td>\n",
       "      <td>75.000000</td>\n",
       "      <td>NaN</td>\n",
       "      <td>0.000000</td>\n",
       "    </tr>\n",
       "    <tr>\n",
       "      <th>max</th>\n",
       "      <td>2720.00000</td>\n",
       "      <td>NaN</td>\n",
       "      <td>NaN</td>\n",
       "      <td>NaN</td>\n",
       "      <td>NaN</td>\n",
       "      <td>NaN</td>\n",
       "      <td>NaN</td>\n",
       "      <td>NaN</td>\n",
       "      <td>NaN</td>\n",
       "      <td>1.000000</td>\n",
       "      <td>1.000000</td>\n",
       "      <td>NaN</td>\n",
       "      <td>NaN</td>\n",
       "      <td>NaN</td>\n",
       "      <td>NaN</td>\n",
       "      <td>120.000000</td>\n",
       "      <td>NaN</td>\n",
       "      <td>1.000000</td>\n",
       "    </tr>\n",
       "  </tbody>\n",
       "</table>\n",
       "</div>"
      ],
      "text/plain": [
       "            key_id tournament_id      tournament_name   match_id  \\\n",
       "count   2720.00000          2720                 2720       2720   \n",
       "unique         NaN            22                   22        886   \n",
       "top            NaN       WC-2022  2022 FIFA World Cup  M-1954-19   \n",
       "freq           NaN           172                  172         12   \n",
       "mean    1360.50000           NaN                  NaN        NaN   \n",
       "std      785.34069           NaN                  NaN        NaN   \n",
       "min        1.00000           NaN                  NaN        NaN   \n",
       "25%      680.75000           NaN                  NaN        NaN   \n",
       "50%     1360.50000           NaN                  NaN        NaN   \n",
       "75%     2040.25000           NaN                  NaN        NaN   \n",
       "max     2720.00000           NaN                  NaN        NaN   \n",
       "\n",
       "             match_name  match_date   stage_name team_name team_code  \\\n",
       "count              2720        2720         2720      2720      2720   \n",
       "unique              708         372            8        81        80   \n",
       "top     Brazil v Sweden  1934-05-27  group stage    Brazil       BRA   \n",
       "freq                 28          43         1808       237       237   \n",
       "mean                NaN         NaN          NaN       NaN       NaN   \n",
       "std                 NaN         NaN          NaN       NaN       NaN   \n",
       "min                 NaN         NaN          NaN       NaN       NaN   \n",
       "25%                 NaN         NaN          NaN       NaN       NaN   \n",
       "50%                 NaN         NaN          NaN       NaN       NaN   \n",
       "75%                 NaN         NaN          NaN       NaN       NaN   \n",
       "max                 NaN         NaN          NaN       NaN       NaN   \n",
       "\n",
       "          home_team    away_team player_id family_name      given_name  \\\n",
       "count   2720.000000  2720.000000      2720        2720            2720   \n",
       "unique          NaN          NaN      1437        1353             879   \n",
       "top             NaN          NaN   P-05224      Müller  not applicable   \n",
       "freq            NaN          NaN        16          29             263   \n",
       "mean       0.626103     0.373897       NaN         NaN             NaN   \n",
       "std        0.483926     0.483926       NaN         NaN             NaN   \n",
       "min        0.000000     0.000000       NaN         NaN             NaN   \n",
       "25%        0.000000     0.000000       NaN         NaN             NaN   \n",
       "50%        1.000000     0.000000       NaN         NaN             NaN   \n",
       "75%        1.000000     1.000000       NaN         NaN             NaN   \n",
       "max        1.000000     1.000000       NaN         NaN             NaN   \n",
       "\n",
       "       player_team_name  minute_regulation match_period      penalty  \n",
       "count              2720        2720.000000         2720  2720.000000  \n",
       "unique               82                NaN            8          NaN  \n",
       "top              Brazil                NaN  second half          NaN  \n",
       "freq                238                NaN         1425          NaN  \n",
       "mean                NaN          51.580882          NaN     0.078676  \n",
       "std                 NaN          27.534339          NaN     0.269283  \n",
       "min                 NaN           1.000000          NaN     0.000000  \n",
       "25%                 NaN          28.000000          NaN     0.000000  \n",
       "50%                 NaN          53.000000          NaN     0.000000  \n",
       "75%                 NaN          75.000000          NaN     0.000000  \n",
       "max                 NaN         120.000000          NaN     1.000000  "
      ]
     },
     "execution_count": 6,
     "metadata": {},
     "output_type": "execute_result"
    }
   ],
   "source": [
    "df.describe(include = 'all')"
   ]
  },
  {
   "cell_type": "markdown",
   "id": "9f330408",
   "metadata": {},
   "source": [
    "### - Ce graphique présente le nombre de buts marqués par Coupe"
   ]
  },
  {
   "cell_type": "code",
   "execution_count": 11,
   "id": "de1c098f",
   "metadata": {},
   "outputs": [
    {
     "data": {
      "text/plain": [
       "<AxesSubplot:>"
      ]
     },
     "execution_count": 11,
     "metadata": {},
     "output_type": "execute_result"
    },
    {
     "data": {
      "image/png": "[encoded data removed]",
      "text/plain": [
       "<Figure size 640x480 with 1 Axes>"
      ]
     },
     "metadata": {},
     "output_type": "display_data"
    }
   ],
   "source": [
    "df['tournament_id'].value_counts(sort=False).plot.bar()"
   ]
  },
  {
   "cell_type": "markdown",
   "id": "4ae0c9c2",
   "metadata": {},
   "source": [
    "### - Celui nous montre les 10 joueurs ayant inscrit le plus de buts"
   ]
  },
  {
   "cell_type": "code",
   "execution_count": 25,
   "id": "3cd7348d",
   "metadata": {},
   "outputs": [
    {
     "data": {
      "text/plain": [
       "<AxesSubplot:>"
      ]
     },
     "execution_count": 25,
     "metadata": {},
     "output_type": "execute_result"
    },
    {
     "data": {
      "image/png": "[encoded data removed]",
      "text/plain": [
       "<Figure size 640x480 with 1 Axes>"
      ]
     },
     "metadata": {},
     "output_type": "display_data"
    }
   ],
   "source": [
    "df['player_id'].value_counts()[:10].plot.bar()"
   ]
  },
  {
   "cell_type": "markdown",
   "id": "8a79baae",
   "metadata": {},
   "source": [
    "### - Celui nous montre les 7 joueurs ayant inscrit le plus de buts"
   ]
  },
  {
   "cell_type": "code",
   "execution_count": 49,
   "id": "1402396e",
   "metadata": {},
   "outputs": [
    {
     "data": {
      "text/plain": [
       "<BarContainer object of 7 artists>"
      ]
     },
     "execution_count": 49,
     "metadata": {},
     "output_type": "execute_result"
    },
    {
     "data": {
      "image/png": "[encoded data removed]",
      "text/plain": [
       "<Figure size 900x500 with 1 Axes>"
      ]
     },
     "metadata": {},
     "output_type": "display_data"
    }
   ],
   "source": [
    "fig = plt.figure(figsize=(9, 5))\n",
    "ax = fig.add_axes([0,0,1,1])\n",
    "players = ['Miroslav Klose','Ronaldo','Gerd Müller','Just Fontaine','Messi','Pelé','Kyllian Mbappé']\n",
    "goals = [16,15,14,13,13,12,12]\n",
    "ax.bar(players,goals)"
   ]
  },
  {
   "cell_type": "markdown",
   "id": "6f7d0210",
   "metadata": {},
   "source": [
    "#### ( Je remarque que la majorité des joueurs, à part Messi et Mbappé, sont des anciens joueurs ayant pris leurs retraite, donc leurs compteur de but ne bougera plus ) "
   ]
  },
  {
   "cell_type": "markdown",
   "id": "bf9efd79",
   "metadata": {},
   "source": [
    "### - Celui nous présente leurs buts par rapport aux nombres de Coupe du Monde joué"
   ]
  },
  {
   "cell_type": "code",
   "execution_count": 92,
   "id": "00ae2cb5",
   "metadata": {},
   "outputs": [
    {
     "data": {
      "image/png": "[encoded data removed]",
      "text/plain": [
       "<Figure size 1000x500 with 1 Axes>"
      ]
     },
     "metadata": {},
     "output_type": "display_data"
    }
   ],
   "source": [
    "goals = [13,14,12,16,15,12,13]\n",
    "\n",
    "nb_cdm = [1,2,2,4,4,4,5]\n",
    "\n",
    "mydata = pd.DataFrame({\"Nb de buts\":goals,\"Nb de CdM\":nb_cdm})\n",
    "\n",
    "mydata.index = ['Just Fontaine','Gerd Müller','Kyllian Mbappé','Miroslav Klose','Ronaldo','Pelé','Messi']\n",
    "\n",
    "from pandas import plotting\n",
    "\n",
    "mydata.plot(kind=\"bar\",rot=0, figsize=(10, 5)) \n",
    "plt.show()"
   ]
  },
  {
   "cell_type": "markdown",
   "id": "5376e31d",
   "metadata": {},
   "source": [
    "### - Celui nous présente leurs buts par rapport aux nombres de match joué"
   ]
  },
  {
   "cell_type": "code",
   "execution_count": 122,
   "id": "7f92a435",
   "metadata": {},
   "outputs": [
    {
     "data": {
      "image/png": "[encoded data removed]",
      "text/plain": [
       "<Figure size 1000x500 with 1 Axes>"
      ]
     },
     "metadata": {},
     "output_type": "display_data"
    }
   ],
   "source": [
    "goals = [13,14,12,12,15,16,13]\n",
    "\n",
    "nb_match = [6,13,14,14,19,24,26]\n",
    "\n",
    "mydata = pd.DataFrame({\"Nb de buts\":goals,\"Nb de matchs\":nb_match})\n",
    "\n",
    "mydata.index = ['Just Fontaine','Gerd Müller','Kyllian Mbappé','Pelé','Ronaldo','Miroslav Klose','Messi']\n",
    "\n",
    "from pandas import plotting\n",
    "\n",
    "mydata.plot(kind=\"bar\",rot=0, figsize=(10, 5)) \n",
    "plt.show()"
   ]
  },
  {
   "cell_type": "code",
   "execution_count": 120,
   "id": "a984dd22",
   "metadata": {},
   "outputs": [],
   "source": [
    "liste =[['Just Fontaine',13,1],\n",
    "        ['Gerd Müller',14,2], \n",
    "        ['Kyllian Mbappé',12,2],                       \n",
    "        ['Miroslav Klose',16,4], \n",
    "        ['Ronaldo',15,4],                       \n",
    "        ['Pelé',12,4],\n",
    "        ['Messi',13,5]]"
   ]
  },
  {
   "cell_type": "code",
   "execution_count": 121,
   "id": "4193e664",
   "metadata": {},
   "outputs": [
    {
     "name": "stdout",
     "output_type": "stream",
     "text": [
      "Just Fontaine : 13.0 buts par CdM\n",
      "Gerd Müller : 7.0 buts par CdM\n",
      "Kyllian Mbappé : 6.0 buts par CdM\n",
      "Miroslav Klose : 4.0 buts par CdM\n",
      "Ronaldo : 3.75 buts par CdM\n",
      "Pelé : 3.0 buts par CdM\n",
      "Messi : 2.6 buts par CdM\n"
     ]
    }
   ],
   "source": [
    "for i in liste :\n",
    "    print(i[0], ':', i[1]/i[2], 'buts par CdM')"
   ]
  },
  {
   "cell_type": "markdown",
   "id": "01b45f97",
   "metadata": {},
   "source": [
    "### Conclusion\n",
    "##### - Le nombre de buts ne signifie pas tous, il est nécessaire d'ajouté à ça le nombre de participation pour mieux comparer les joueurs\n",
    "##### - Le nombre de matchs joué est tout aussi important, car il peut arrivé qu'un joueur ne joue pas tous les match de la compétition\n",
    "##### - Kyllian Mbappé sera sûrement le joueur avec le plus de but en Coupe du Monde de part ses superbes performances en seulement 2 participation mais aussi de part son jeune âge, ce qui lui permettra de pouvoir en joué au moins 3 autres "
   ]
  },
  {
   "cell_type": "code",
   "execution_count": null,
   "id": "d862b02e",
   "metadata": {},
   "outputs": [],
   "source": []
  }
 ],
 "metadata": {
  "kernelspec": {
   "display_name": "Python 3 (ipykernel)",
   "language": "python",
   "name": "python3"
  },
  "language_info": {
   "codemirror_mode": {
    "name": "ipython",
    "version": 3
   },
   "file_extension": ".py",
   "mimetype": "text/x-python",
   "name": "python",
   "nbconvert_exporter": "python",
   "pygments_lexer": "ipython3",
   "version": "3.9.13"
  },
  "varInspector": {
   "cols": {
    "lenName": "16",
    "lenType": 16,
    "lenVar": "100"
   },
   "kernels_config": {
    "python": {
     "delete_cmd_postfix": "",
     "delete_cmd_prefix": "del ",
     "library": "var_list.py",
     "varRefreshCmd": "print(var_dic_list())"
    },
    "r": {
     "delete_cmd_postfix": ") ",
     "delete_cmd_prefix": "rm(",
     "library": "var_list.r",
     "varRefreshCmd": "cat(var_dic_list()) "
    }
   },
   "types_to_exclude": [
    "module",
    "function",
    "builtin_function_or_method",
    "instance",
    "_Feature"
   ],
   "window_display": false
  }
 },
 "nbformat": 4,
 "nbformat_minor": 5
}
