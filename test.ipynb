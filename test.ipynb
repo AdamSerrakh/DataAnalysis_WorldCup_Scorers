{
 "cells": [
  {
   "cell_type": "code",
   "execution_count": 1,
   "id": "6c48d4d7",
   "metadata": {},
   "outputs": [],
   "source": [
    "import pandas as pd \n",
    "import numpy as np \n",
    "import seaborn as sns\n",
    "import matplotlib.pyplot as plt\n",
    "\n",
    "df = pd.read_csv('goals.csv')"
   ]
  },
  {
   "cell_type": "code",
   "execution_count": 2,
   "id": "5f892025",
   "metadata": {},
   "outputs": [],
   "source": [
    "df2 = df.groupby('player_id')\n",
    "goal_klose = df[df['player_id'] == 'P-05224']"
   ]
  },
  {
   "cell_type": "code",
   "execution_count": 16,
   "id": "6ecc9bd5",
   "metadata": {},
   "outputs": [
    {
     "data": {
      "text/plain": [
       "['P-05224', 'P-08490', 'P-02173', 'P-03429', 'P-02537', 'P-09516', 'P-06978']"
      ]
     },
     "execution_count": 16,
     "metadata": {},
     "output_type": "execute_result"
    }
   ],
   "source": [
    "top7 = df['player_id'].value_counts()[:7].index.tolist()\n",
    "top7"
   ]
  },
  {
   "cell_type": "code",
   "execution_count": 17,
   "id": "ca78a173",
   "metadata": {},
   "outputs": [
    {
     "data": {
      "text/plain": [
       "['P-05224', 'P-08490', 'P-02173', 'P-03429', 'P-02537', 'P-09516', 'P-06978']"
      ]
     },
     "execution_count": 17,
     "metadata": {},
     "output_type": "execute_result"
    }
   ],
   "source": [
    "top_goals = [i for i in top7]\n",
    "top_goals"
   ]
  },
  {
   "cell_type": "code",
   "execution_count": 18,
   "id": "3d3fa70c",
   "metadata": {},
   "outputs": [
    {
     "data": {
      "text/plain": [
       "[1761    Klose\n",
       " 1762    Klose\n",
       " 1765    Klose\n",
       " 1801    Klose\n",
       " 1845    Klose\n",
       " 1918    Klose\n",
       " 1919    Klose\n",
       " 1994    Klose\n",
       " 1995    Klose\n",
       " 2049    Klose\n",
       " 2073    Klose\n",
       " 2170    Klose\n",
       " 2192    Klose\n",
       " 2194    Klose\n",
       " 2289    Klose\n",
       " 2368    Klose\n",
       " Name: family_name, dtype: object,\n",
       " 1623    Ronaldo\n",
       " 1713    Ronaldo\n",
       " 1715    Ronaldo\n",
       " 1744    Ronaldo\n",
       " 1782    Ronaldo\n",
       " 1821    Ronaldo\n",
       " 1860    Ronaldo\n",
       " 1861    Ronaldo\n",
       " 1897    Ronaldo\n",
       " 1908    Ronaldo\n",
       " 1914    Ronaldo\n",
       " 1915    Ronaldo\n",
       " 2023    Ronaldo\n",
       " 2026    Ronaldo\n",
       " 2041    Ronaldo\n",
       " Name: family_name, dtype: object,\n",
       " 775    Müller\n",
       " 796    Müller\n",
       " 797    Müller\n",
       " 799    Müller\n",
       " 809    Müller\n",
       " 810    Müller\n",
       " 811    Müller\n",
       " 833    Müller\n",
       " 840    Müller\n",
       " 843    Müller\n",
       " 869    Müller\n",
       " 915    Müller\n",
       " 936    Müller\n",
       " 947    Müller\n",
       " Name: family_name, dtype: object,\n",
       " 1967    Messi\n",
       " 2243    Messi\n",
       " 2285    Messi\n",
       " 2329    Messi\n",
       " 2331    Messi\n",
       " 2481    Messi\n",
       " 2562    Messi\n",
       " 2603    Messi\n",
       " 2672    Messi\n",
       " 2699    Messi\n",
       " 2706    Messi\n",
       " 2714    Messi\n",
       " 2718    Messi\n",
       " Name: family_name, dtype: object,\n",
       " 461    Fontaine\n",
       " 462    Fontaine\n",
       " 467    Fontaine\n",
       " 494    Fontaine\n",
       " 497    Fontaine\n",
       " 518    Fontaine\n",
       " 545    Fontaine\n",
       " 546    Fontaine\n",
       " 552    Fontaine\n",
       " 562    Fontaine\n",
       " 565    Fontaine\n",
       " 568    Fontaine\n",
       " 570    Fontaine\n",
       " Name: family_name, dtype: object,\n",
       " 543    Pelé\n",
       " 554    Pelé\n",
       " 555    Pelé\n",
       " 556    Pelé\n",
       " 574    Pelé\n",
       " 577    Pelé\n",
       " 586    Pelé\n",
       " 672    Pelé\n",
       " 770    Pelé\n",
       " 804    Pelé\n",
       " 807    Pelé\n",
       " 846    Pelé\n",
       " Name: family_name, dtype: object,\n",
       " 2426    Mbappé\n",
       " 2505    Mbappé\n",
       " 2506    Mbappé\n",
       " 2546    Mbappé\n",
       " 2568    Mbappé\n",
       " 2600    Mbappé\n",
       " 2602    Mbappé\n",
       " 2676    Mbappé\n",
       " 2677    Mbappé\n",
       " 2716    Mbappé\n",
       " 2717    Mbappé\n",
       " 2719    Mbappé\n",
       " Name: family_name, dtype: object]"
      ]
     },
     "execution_count": 18,
     "metadata": {},
     "output_type": "execute_result"
    }
   ],
   "source": [
    "zeb = [df[df['player_id'] == i]['family_name'] for i in top7]\n",
    "zeb"
   ]
  },
  {
   "cell_type": "code",
   "execution_count": 19,
   "id": "ed163a3e",
   "metadata": {},
   "outputs": [
    {
     "data": {
      "text/plain": [
       "[1761    Klose\n",
       " 1762    Klose\n",
       " 1765    Klose\n",
       " 1801    Klose\n",
       " 1845    Klose\n",
       " 1918    Klose\n",
       " 1919    Klose\n",
       " 1994    Klose\n",
       " 1995    Klose\n",
       " 2049    Klose\n",
       " 2073    Klose\n",
       " 2170    Klose\n",
       " 2192    Klose\n",
       " 2194    Klose\n",
       " 2289    Klose\n",
       " 2368    Klose\n",
       " Name: family_name, dtype: object,\n",
       " 1623    Ronaldo\n",
       " 1713    Ronaldo\n",
       " 1715    Ronaldo\n",
       " 1744    Ronaldo\n",
       " 1782    Ronaldo\n",
       " 1821    Ronaldo\n",
       " 1860    Ronaldo\n",
       " 1861    Ronaldo\n",
       " 1897    Ronaldo\n",
       " 1908    Ronaldo\n",
       " 1914    Ronaldo\n",
       " 1915    Ronaldo\n",
       " 2023    Ronaldo\n",
       " 2026    Ronaldo\n",
       " 2041    Ronaldo\n",
       " Name: family_name, dtype: object,\n",
       " 775    Müller\n",
       " 796    Müller\n",
       " 797    Müller\n",
       " 799    Müller\n",
       " 809    Müller\n",
       " 810    Müller\n",
       " 811    Müller\n",
       " 833    Müller\n",
       " 840    Müller\n",
       " 843    Müller\n",
       " 869    Müller\n",
       " 915    Müller\n",
       " 936    Müller\n",
       " 947    Müller\n",
       " Name: family_name, dtype: object,\n",
       " 1967    Messi\n",
       " 2243    Messi\n",
       " 2285    Messi\n",
       " 2329    Messi\n",
       " 2331    Messi\n",
       " 2481    Messi\n",
       " 2562    Messi\n",
       " 2603    Messi\n",
       " 2672    Messi\n",
       " 2699    Messi\n",
       " 2706    Messi\n",
       " 2714    Messi\n",
       " 2718    Messi\n",
       " Name: family_name, dtype: object,\n",
       " 461    Fontaine\n",
       " 462    Fontaine\n",
       " 467    Fontaine\n",
       " 494    Fontaine\n",
       " 497    Fontaine\n",
       " 518    Fontaine\n",
       " 545    Fontaine\n",
       " 546    Fontaine\n",
       " 552    Fontaine\n",
       " 562    Fontaine\n",
       " 565    Fontaine\n",
       " 568    Fontaine\n",
       " 570    Fontaine\n",
       " Name: family_name, dtype: object,\n",
       " 543    Pelé\n",
       " 554    Pelé\n",
       " 555    Pelé\n",
       " 556    Pelé\n",
       " 574    Pelé\n",
       " 577    Pelé\n",
       " 586    Pelé\n",
       " 672    Pelé\n",
       " 770    Pelé\n",
       " 804    Pelé\n",
       " 807    Pelé\n",
       " 846    Pelé\n",
       " Name: family_name, dtype: object,\n",
       " 2426    Mbappé\n",
       " 2505    Mbappé\n",
       " 2506    Mbappé\n",
       " 2546    Mbappé\n",
       " 2568    Mbappé\n",
       " 2600    Mbappé\n",
       " 2602    Mbappé\n",
       " 2676    Mbappé\n",
       " 2677    Mbappé\n",
       " 2716    Mbappé\n",
       " 2717    Mbappé\n",
       " 2719    Mbappé\n",
       " Name: family_name, dtype: object]"
      ]
     },
     "execution_count": 19,
     "metadata": {},
     "output_type": "execute_result"
    }
   ],
   "source": [
    "aqw = [df[df['player_id'] == i]['family_name'] for i in top7]\n",
    "aqw"
   ]
  },
  {
   "cell_type": "code",
   "execution_count": 7,
   "id": "2297796a",
   "metadata": {},
   "outputs": [
    {
     "data": {
      "text/plain": [
       "[]"
      ]
     },
     "execution_count": 7,
     "metadata": {},
     "output_type": "execute_result"
    }
   ],
   "source": [
    "top_players = []\n",
    "for i in zeb:\n",
    "    for j in i:\n",
    "        if j not in top_players:\n",
    "            top_players.append(j)\n",
    "            \n",
    "top_players"
   ]
  },
  {
   "cell_type": "code",
   "execution_count": 8,
   "id": "9c2202cd",
   "metadata": {},
   "outputs": [
    {
     "data": {
      "text/plain": [
       "[0, 0, 0, 0, 0, 0, 0]"
      ]
     },
     "execution_count": 8,
     "metadata": {},
     "output_type": "execute_result"
    }
   ],
   "source": [
    "l_goals = []\n",
    "for i in range(len(zeb)):\n",
    "    l_goals.append(zeb[i].count())\n",
    "    \n",
    "l_goals"
   ]
  },
  {
   "cell_type": "code",
   "execution_count": 9,
   "id": "5566c8fb",
   "metadata": {},
   "outputs": [],
   "source": [
    "df_top = pd.DataFrame({'goals':[l_goals]\n",
    "    \n",
    "})"
   ]
  },
  {
   "cell_type": "code",
   "execution_count": 10,
   "id": "f46bb6eb",
   "metadata": {},
   "outputs": [
    {
     "name": "stdout",
     "output_type": "stream",
     "text": [
      "16\n",
      "15\n",
      "14\n",
      "13\n",
      "13\n",
      "12\n",
      "12\n"
     ]
    }
   ],
   "source": [
    "top7 = df['player_id'].value_counts()[:7]\n",
    "for i in top7:\n",
    "    print(i)"
   ]
  },
  {
   "cell_type": "code",
   "execution_count": 11,
   "id": "d035a3af",
   "metadata": {},
   "outputs": [
    {
     "data": {
      "text/plain": [
       "['Klose',\n",
       " 'Klose',\n",
       " 'Klose',\n",
       " 'Klose',\n",
       " 'Klose',\n",
       " 'Klose',\n",
       " 'Klose',\n",
       " 'Klose',\n",
       " 'Klose',\n",
       " 'Klose',\n",
       " 'Klose',\n",
       " 'Klose',\n",
       " 'Klose',\n",
       " 'Klose',\n",
       " 'Klose',\n",
       " 'Klose']"
      ]
     },
     "execution_count": 11,
     "metadata": {},
     "output_type": "execute_result"
    }
   ],
   "source": [
    "listo = [i for i in df[df['player_id'] == 'P-05224']['family_name']]\n",
    "listo"
   ]
  },
  {
   "cell_type": "code",
   "execution_count": 12,
   "id": "e81b0bbb",
   "metadata": {},
   "outputs": [
    {
     "data": {
      "text/plain": [
       "<pandas.core.indexing._LocIndexer at 0x292aa67cef0>"
      ]
     },
     "execution_count": 12,
     "metadata": {},
     "output_type": "execute_result"
    }
   ],
   "source": [
    "df.loc"
   ]
  },
  {
   "cell_type": "code",
   "execution_count": null,
   "id": "e2fa9118",
   "metadata": {},
   "outputs": [],
   "source": []
  },
  {
   "cell_type": "code",
   "execution_count": 13,
   "id": "c32587c3",
   "metadata": {},
   "outputs": [],
   "source": [
    "azer = df.groupby(df['player_id'].value_counts()[:7])"
   ]
  },
  {
   "cell_type": "code",
   "execution_count": 14,
   "id": "32ad2596",
   "metadata": {},
   "outputs": [
    {
     "data": {
      "text/plain": [
       "<pandas.core.groupby.generic.DataFrameGroupBy object at 0x00000292AA4D3BB0>"
      ]
     },
     "execution_count": 14,
     "metadata": {},
     "output_type": "execute_result"
    }
   ],
   "source": [
    "azer"
   ]
  },
  {
   "cell_type": "code",
   "execution_count": null,
   "id": "fc638cfa",
   "metadata": {},
   "outputs": [],
   "source": []
  }
 ],
 "metadata": {
  "kernelspec": {
   "display_name": "Python 3 (ipykernel)",
   "language": "python",
   "name": "python3"
  },
  "language_info": {
   "codemirror_mode": {
    "name": "ipython",
    "version": 3
   },
   "file_extension": ".py",
   "mimetype": "text/x-python",
   "name": "python",
   "nbconvert_exporter": "python",
   "pygments_lexer": "ipython3",
   "version": "3.9.13"
  }
 },
 "nbformat": 4,
 "nbformat_minor": 5
}
